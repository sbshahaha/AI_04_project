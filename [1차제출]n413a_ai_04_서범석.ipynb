{
  "nbformat": 4,
  "nbformat_minor": 0,
  "metadata": {
    "accelerator": "GPU",
    "colab": {
      "name": "[1차제출]n413a_ai_04_ 서범석.ipynb",
      "provenance": [],
      "collapsed_sections": [],
      "machine_shape": "hm",
      "include_colab_link": true
    },
    "kernelspec": {
      "display_name": "Python 3",
      "language": "python",
      "name": "python3"
    },
    "language_info": {
      "codemirror_mode": {
        "name": "ipython",
        "version": 3
      },
      "file_extension": ".py",
      "mimetype": "text/x-python",
      "name": "python",
      "nbconvert_exporter": "python",
      "pygments_lexer": "ipython3",
      "version": "3.9.4"
    }
  },
  "cells": [
    {
      "cell_type": "markdown",
      "metadata": {
        "id": "view-in-github",
        "colab_type": "text"
      },
      "source": [
        "<a href=\"https://colab.research.google.com/github/sbshahaha/AI_04_project/blob/main/%5B1%EC%B0%A8%EC%A0%9C%EC%B6%9C%5Dn413a_ai_04_%EC%84%9C%EB%B2%94%EC%84%9D.ipynb\" target=\"_parent\"><img src=\"https://colab.research.google.com/assets/colab-badge.svg\" alt=\"Open In Colab\"/></a>"
      ]
    },
    {
      "cell_type": "markdown",
      "metadata": {
        "id": "pBQsZEJmubLs"
      },
      "source": [
        "<img src='https://user-images.githubusercontent.com/6457691/90080969-0f758d00-dd47-11ea-8191-fa12fd2054a7.png' width = '200' align = 'right'>\n",
        "\n",
        "## *DATA SCIENCE / SECTION 4 / SPRINT 1 / Assingment 3*\n",
        "\n",
        "---\n",
        "# Neural Network Framework (Keras)\n",
        "\n"
      ]
    },
    {
      "cell_type": "markdown",
      "metadata": {
        "id": "nN5Wzlub62DZ"
      },
      "source": [
        "\n",
        "## 기본과제\n",
        "### 케라스 라이브러리를 사용하여 Multi-Layer Perceptron 모델을 CIFAR100 데이터에 적용해보세요.\n",
        "\n",
        "- 시드를 고정하십시오.\n",
        "- 데이터를 Noramlized 해줍니다. \n",
        "- 케라스에서 모델은 다음과 같이 고정합니다. \n",
        "- 은닉층의 활성함수는 ReLU를 사용합니다.\n",
        "- 단계별로 오늘 배운 규제방법을 적용해봅니다. "
      ]
    },
    {
      "cell_type": "code",
      "metadata": {
        "id": "SBPLbaggP52G"
      },
      "source": [
        "import keras, os, random\n",
        "import tensorflow as tf\n",
        "import numpy as np\n",
        "from tensorflow.keras.datasets import cifar100\n",
        "from tensorflow.keras.models import Sequential\n",
        "from tensorflow.keras.layers import Dense, Flatten, Dropout\n",
        "from tensorflow.keras.optimizers import Adam\n",
        "from tensorflow.keras import regularizers"
      ],
      "execution_count": 18,
      "outputs": []
    },
    {
      "cell_type": "markdown",
      "metadata": {
        "id": "I7nHEuYmd-p6"
      },
      "source": [
        "### 1) Base model을 제작합니다."
      ]
    },
    {
      "cell_type": "code",
      "metadata": {
        "id": "_T_3XkVRY2xw",
        "colab": {
          "base_uri": "https://localhost:8080/"
        },
        "outputId": "93eaa4fd-56d0-484f-a8b7-066a9e4378a0"
      },
      "source": [
        "# seed를 고정합니다.\n",
        "random.seed(1)\n",
        "np.random.seed(1)\n",
        "os.environ[\"PYTHONHASHSEED\"] = str(1)\n",
        "os.environ['TF_DETERMINISTIC_OPS'] = str(1)\n",
        "tf.random.set_seed(1)\n",
        "\n",
        "# 데이터 불러오기\n",
        "(X_train, y_train), (X_test, y_test) = cifar100.load_data()\n",
        "\n",
        "# 정규화(전처리)\n",
        "# ### Your Code Here ###\n",
        "X_train = X_train/255.    #최대값이 255 였다\n",
        "X_test = X_test/255.\n",
        "\n",
        "# 변수 설정을 따로 하는 방법을 적용하기 위한 코드입니다. \n",
        "batch_size = 100\n",
        "epochs_max = 20\n",
        "\n",
        "# model\n",
        "model = Sequential()\n",
        "model.add(Flatten(input_shape=(X_train[1].shape))) #한개의 샘플의 셰이프를 찾으면 되겠지?\n",
        "model.add(Dense(128, activation='relu'))\n",
        "model.add(Dense(128, activation='relu'))\n",
        "model.add(Dense(100, activation='softmax')) # > 분류문제라는것\n",
        "\n",
        "# 컴파일 단계, 옵티마이저와 손실함수, 측정지표를 연결해서 계산 그래프를 구성함\n",
        "model.compile(optimizer='adam', loss='sparse_categorical_crossentropy', metrics=['accuracy']) #>타깃을 확인해본바 정수였다\n",
        "\n",
        "results = model.fit(X_train, y_train, epochs=epochs_max, batch_size=batch_size, verbose=1, validation_data=(X_test,y_test))"
      ],
      "execution_count": 35,
      "outputs": [
        {
          "output_type": "stream",
          "text": [
            "Epoch 1/20\n",
            "500/500 [==============================] - 2s 4ms/step - loss: 4.1250 - accuracy: 0.0702 - val_loss: 3.8698 - val_accuracy: 0.1068\n",
            "Epoch 2/20\n",
            "500/500 [==============================] - 2s 3ms/step - loss: 3.7575 - accuracy: 0.1223 - val_loss: 3.7199 - val_accuracy: 0.1331\n",
            "Epoch 3/20\n",
            "500/500 [==============================] - 2s 3ms/step - loss: 3.6322 - accuracy: 0.1446 - val_loss: 3.6934 - val_accuracy: 0.1442\n",
            "Epoch 4/20\n",
            "500/500 [==============================] - 2s 3ms/step - loss: 3.5500 - accuracy: 0.1588 - val_loss: 3.5947 - val_accuracy: 0.1592\n",
            "Epoch 5/20\n",
            "500/500 [==============================] - 2s 3ms/step - loss: 3.4954 - accuracy: 0.1698 - val_loss: 3.5242 - val_accuracy: 0.1731\n",
            "Epoch 6/20\n",
            "500/500 [==============================] - 2s 3ms/step - loss: 3.4336 - accuracy: 0.1801 - val_loss: 3.5019 - val_accuracy: 0.1724\n",
            "Epoch 7/20\n",
            "500/500 [==============================] - 2s 3ms/step - loss: 3.3962 - accuracy: 0.1884 - val_loss: 3.4911 - val_accuracy: 0.1778\n",
            "Epoch 8/20\n",
            "500/500 [==============================] - 2s 3ms/step - loss: 3.3572 - accuracy: 0.1946 - val_loss: 3.4645 - val_accuracy: 0.1847\n",
            "Epoch 9/20\n",
            "500/500 [==============================] - 2s 3ms/step - loss: 3.3278 - accuracy: 0.1997 - val_loss: 3.4580 - val_accuracy: 0.1843\n",
            "Epoch 10/20\n",
            "500/500 [==============================] - 2s 3ms/step - loss: 3.3027 - accuracy: 0.2049 - val_loss: 3.3787 - val_accuracy: 0.2080\n",
            "Epoch 11/20\n",
            "500/500 [==============================] - 2s 3ms/step - loss: 3.2705 - accuracy: 0.2104 - val_loss: 3.3671 - val_accuracy: 0.2027\n",
            "Epoch 12/20\n",
            "500/500 [==============================] - 2s 3ms/step - loss: 3.2428 - accuracy: 0.2156 - val_loss: 3.3678 - val_accuracy: 0.2000\n",
            "Epoch 13/20\n",
            "500/500 [==============================] - 2s 3ms/step - loss: 3.2196 - accuracy: 0.2207 - val_loss: 3.3916 - val_accuracy: 0.1977\n",
            "Epoch 14/20\n",
            "500/500 [==============================] - 2s 3ms/step - loss: 3.2036 - accuracy: 0.2222 - val_loss: 3.3354 - val_accuracy: 0.2143\n",
            "Epoch 15/20\n",
            "500/500 [==============================] - 2s 3ms/step - loss: 3.1894 - accuracy: 0.2249 - val_loss: 3.3553 - val_accuracy: 0.2125\n",
            "Epoch 16/20\n",
            "500/500 [==============================] - 2s 3ms/step - loss: 3.1778 - accuracy: 0.2256 - val_loss: 3.3481 - val_accuracy: 0.2062\n",
            "Epoch 17/20\n",
            "500/500 [==============================] - 1s 3ms/step - loss: 3.1577 - accuracy: 0.2307 - val_loss: 3.3338 - val_accuracy: 0.2099\n",
            "Epoch 18/20\n",
            "500/500 [==============================] - 2s 3ms/step - loss: 3.1463 - accuracy: 0.2302 - val_loss: 3.3203 - val_accuracy: 0.2129\n",
            "Epoch 19/20\n",
            "500/500 [==============================] - 2s 3ms/step - loss: 3.1348 - accuracy: 0.2332 - val_loss: 3.3429 - val_accuracy: 0.2095\n",
            "Epoch 20/20\n",
            "500/500 [==============================] - 2s 3ms/step - loss: 3.1245 - accuracy: 0.2346 - val_loss: 3.3331 - val_accuracy: 0.2095\n"
          ],
          "name": "stdout"
        }
      ]
    },
    {
      "cell_type": "code",
      "metadata": {
        "id": "PdxJ5AnieUxI",
        "colab": {
          "base_uri": "https://localhost:8080/"
        },
        "outputId": "5bf20a93-4d79-420c-bb5c-52710a3bea60"
      },
      "source": [
        "test_loss, test_acc = model.evaluate(X_test,  y_test, verbose=1)"
      ],
      "execution_count": 36,
      "outputs": [
        {
          "output_type": "stream",
          "text": [
            "313/313 [==============================] - 1s 3ms/step - loss: 3.3331 - accuracy: 0.2095\n"
          ],
          "name": "stdout"
        }
      ]
    },
    {
      "cell_type": "markdown",
      "metadata": {
        "id": "9FsOhXZw7DdR"
      },
      "source": [
        "### 2) + Weight Decay"
      ]
    },
    {
      "cell_type": "code",
      "metadata": {
        "id": "XBQks0_rZWa9",
        "colab": {
          "base_uri": "https://localhost:8080/"
        },
        "outputId": "eab3f22e-9084-4b73-fbdd-3b922a3ee178"
      },
      "source": [
        "# seed를 고정합니다.\n",
        "random.seed(1)\n",
        "np.random.seed(1)\n",
        "os.environ[\"PYTHONHASHSEED\"] = str(1)\n",
        "os.environ['TF_DETERMINISTIC_OPS'] = str(1)\n",
        "tf.random.set_seed(1)\n",
        "\n",
        "# 데이터 불러오기\n",
        "(X_train, y_train), (X_test, y_test) = cifar100.load_data()\n",
        "\n",
        "# 정규화(전처리)\n",
        "### Your Code Here ###\n",
        "X_train = X_train/255.    #최대값이 255 였다\n",
        "X_test = X_test/255.\n",
        "\n",
        "# 변수 설정을 따로 하는 방법을 적용하기 위한 코드입니다. \n",
        "batch_size = 100\n",
        "epochs_max = 20\n",
        "\n",
        "# model\n",
        "model = Sequential()\n",
        "model.add(Flatten(input_shape=X_train[1].shape))\n",
        "model.add(Dense(128, activation='relu', \n",
        "                kernel_regularizer=regularizers.l2(0.00001),   \n",
        "                activity_regularizer=regularizers.l1(0.00001)))\n",
        "model.add(Dense(128, activation='relu'))\n",
        "model.add(Dense(100, activation='softmax'))\n",
        "\n",
        "# 컴파일 단계, 옵티마이저와 손실함수, 측정지표를 연결해서 계산 그래프를 구성함\n",
        "model.compile(optimizer='adam', loss='sparse_categorical_crossentropy', metrics=['accuracy'])\n",
        "\n",
        "results = model.fit(X_train, y_train, epochs=epochs_max, batch_size=batch_size, verbose=1, validation_data=(X_test,y_test))"
      ],
      "execution_count": 38,
      "outputs": [
        {
          "output_type": "stream",
          "text": [
            "Epoch 1/20\n",
            "500/500 [==============================] - 2s 4ms/step - loss: 4.1071 - accuracy: 0.0758 - val_loss: 3.8348 - val_accuracy: 0.1140\n",
            "Epoch 2/20\n",
            "500/500 [==============================] - 2s 3ms/step - loss: 3.7285 - accuracy: 0.1303 - val_loss: 3.6643 - val_accuracy: 0.1428\n",
            "Epoch 3/20\n",
            "500/500 [==============================] - 1s 3ms/step - loss: 3.5959 - accuracy: 0.1528 - val_loss: 3.6385 - val_accuracy: 0.1501\n",
            "Epoch 4/20\n",
            "500/500 [==============================] - 2s 3ms/step - loss: 3.5071 - accuracy: 0.1681 - val_loss: 3.5156 - val_accuracy: 0.1733\n",
            "Epoch 5/20\n",
            "500/500 [==============================] - 2s 3ms/step - loss: 3.4447 - accuracy: 0.1807 - val_loss: 3.4648 - val_accuracy: 0.1793\n",
            "Epoch 6/20\n",
            "500/500 [==============================] - 2s 3ms/step - loss: 3.3833 - accuracy: 0.1911 - val_loss: 3.4483 - val_accuracy: 0.1863\n",
            "Epoch 7/20\n",
            "500/500 [==============================] - 2s 3ms/step - loss: 3.3412 - accuracy: 0.1977 - val_loss: 3.4596 - val_accuracy: 0.1867\n",
            "Epoch 8/20\n",
            "500/500 [==============================] - 2s 3ms/step - loss: 3.2965 - accuracy: 0.2064 - val_loss: 3.3856 - val_accuracy: 0.1966\n",
            "Epoch 9/20\n",
            "500/500 [==============================] - 2s 3ms/step - loss: 3.2661 - accuracy: 0.2117 - val_loss: 3.4193 - val_accuracy: 0.1921\n",
            "Epoch 10/20\n",
            "500/500 [==============================] - 1s 3ms/step - loss: 3.2411 - accuracy: 0.2179 - val_loss: 3.3394 - val_accuracy: 0.2072\n",
            "Epoch 11/20\n",
            "500/500 [==============================] - 2s 3ms/step - loss: 3.2122 - accuracy: 0.2237 - val_loss: 3.3425 - val_accuracy: 0.2115\n",
            "Epoch 12/20\n",
            "500/500 [==============================] - 2s 3ms/step - loss: 3.1875 - accuracy: 0.2267 - val_loss: 3.3229 - val_accuracy: 0.2138\n",
            "Epoch 13/20\n",
            "500/500 [==============================] - 2s 3ms/step - loss: 3.1670 - accuracy: 0.2324 - val_loss: 3.3158 - val_accuracy: 0.2128\n",
            "Epoch 14/20\n",
            "500/500 [==============================] - 1s 3ms/step - loss: 3.1460 - accuracy: 0.2342 - val_loss: 3.2935 - val_accuracy: 0.2184\n",
            "Epoch 15/20\n",
            "500/500 [==============================] - 2s 3ms/step - loss: 3.1328 - accuracy: 0.2348 - val_loss: 3.3031 - val_accuracy: 0.2200\n",
            "Epoch 16/20\n",
            "500/500 [==============================] - 2s 3ms/step - loss: 3.1211 - accuracy: 0.2381 - val_loss: 3.3093 - val_accuracy: 0.2145\n",
            "Epoch 17/20\n",
            "500/500 [==============================] - 2s 3ms/step - loss: 3.1073 - accuracy: 0.2412 - val_loss: 3.3311 - val_accuracy: 0.2171\n",
            "Epoch 18/20\n",
            "500/500 [==============================] - 2s 3ms/step - loss: 3.0936 - accuracy: 0.2411 - val_loss: 3.2943 - val_accuracy: 0.2259\n",
            "Epoch 19/20\n",
            "500/500 [==============================] - 2s 3ms/step - loss: 3.0797 - accuracy: 0.2458 - val_loss: 3.2854 - val_accuracy: 0.2256\n",
            "Epoch 20/20\n",
            "500/500 [==============================] - 2s 3ms/step - loss: 3.0658 - accuracy: 0.2465 - val_loss: 3.3089 - val_accuracy: 0.2174\n"
          ],
          "name": "stdout"
        }
      ]
    },
    {
      "cell_type": "code",
      "metadata": {
        "id": "DyY__3tp7DdS",
        "colab": {
          "base_uri": "https://localhost:8080/"
        },
        "outputId": "dd166dac-9557-4b33-961d-be614cc868ed"
      },
      "source": [
        "test_loss, test_acc = model.evaluate(X_test,  y_test, verbose=1)"
      ],
      "execution_count": 39,
      "outputs": [
        {
          "output_type": "stream",
          "text": [
            "313/313 [==============================] - 1s 3ms/step - loss: 3.3089 - accuracy: 0.2174\n"
          ],
          "name": "stdout"
        }
      ]
    },
    {
      "cell_type": "markdown",
      "metadata": {
        "id": "5yQeUcY8fp4x"
      },
      "source": [
        "### 3) + Dropout"
      ]
    },
    {
      "cell_type": "code",
      "metadata": {
        "id": "e_B_mosCZ_Ds",
        "colab": {
          "base_uri": "https://localhost:8080/"
        },
        "outputId": "fac5da36-b277-4779-fac6-3c858b2fd2d1"
      },
      "source": [
        "# seed를 고정합니다.\n",
        "random.seed(1)\n",
        "np.random.seed(1)\n",
        "os.environ[\"PYTHONHASHSEED\"] = str(1)\n",
        "os.environ['TF_DETERMINISTIC_OPS'] = str(1)\n",
        "tf.random.set_seed(1)\n",
        "\n",
        "# 데이터 불러오기\n",
        "(X_train, y_train), (X_test, y_test) = cifar100.load_data()\n",
        "\n",
        "# 정규화(전처리)\n",
        "### Your Code Here ###\n",
        "X_train = X_train/255.    #최대값이 255 였다\n",
        "X_test = X_test/255.\n",
        "\n",
        "# 변수 설정을 따로 하는 방법을 적용하기 위한 코드입니다. \n",
        "batch_size = 100\n",
        "epochs_max = 20\n",
        "\n",
        "# model\n",
        "model = Sequential()\n",
        "model.add(Flatten(input_shape=(X_train[1].shape)))\n",
        "model.add(Dense(128*1.1, activation='relu'))\n",
        "### Your Code Here - DROPOUT ###\n",
        "model.add(Dropout(0.1))\n",
        "model.add(Dense(128, activation='relu'))\n",
        "model.add(Dense(100, activation='softmax'))\n",
        "\n",
        "# 컴파일 단계, 옵티마이저와 손실함수, 측정지표를 연결해서 계산 그래프를 구성함\n",
        "model.compile(optimizer='adam', loss='sparse_categorical_crossentropy', metrics=['accuracy'])\n",
        "\n",
        "results = model.fit(X_train, y_train, epochs=epochs_max, batch_size=batch_size, verbose=1, validation_data=(X_test,y_test))\n"
      ],
      "execution_count": 46,
      "outputs": [
        {
          "output_type": "stream",
          "text": [
            "Epoch 1/20\n",
            "500/500 [==============================] - 2s 4ms/step - loss: 4.1922 - accuracy: 0.0590 - val_loss: 3.8901 - val_accuracy: 0.1055\n",
            "Epoch 2/20\n",
            "500/500 [==============================] - 2s 3ms/step - loss: 3.8846 - accuracy: 0.1014 - val_loss: 3.7581 - val_accuracy: 0.1223\n",
            "Epoch 3/20\n",
            "500/500 [==============================] - 2s 3ms/step - loss: 3.7814 - accuracy: 0.1189 - val_loss: 3.7085 - val_accuracy: 0.1365\n",
            "Epoch 4/20\n",
            "500/500 [==============================] - 2s 3ms/step - loss: 3.7206 - accuracy: 0.1292 - val_loss: 3.6276 - val_accuracy: 0.1543\n",
            "Epoch 5/20\n",
            "500/500 [==============================] - 2s 3ms/step - loss: 3.6704 - accuracy: 0.1367 - val_loss: 3.6020 - val_accuracy: 0.1563\n",
            "Epoch 6/20\n",
            "500/500 [==============================] - 2s 3ms/step - loss: 3.6291 - accuracy: 0.1447 - val_loss: 3.5620 - val_accuracy: 0.1625\n",
            "Epoch 7/20\n",
            "500/500 [==============================] - 1s 3ms/step - loss: 3.5898 - accuracy: 0.1502 - val_loss: 3.5439 - val_accuracy: 0.1662\n",
            "Epoch 8/20\n",
            "500/500 [==============================] - 1s 3ms/step - loss: 3.5673 - accuracy: 0.1560 - val_loss: 3.5050 - val_accuracy: 0.1749\n",
            "Epoch 9/20\n",
            "500/500 [==============================] - 2s 3ms/step - loss: 3.5425 - accuracy: 0.1591 - val_loss: 3.4703 - val_accuracy: 0.1836\n",
            "Epoch 10/20\n",
            "500/500 [==============================] - 1s 3ms/step - loss: 3.5202 - accuracy: 0.1625 - val_loss: 3.4872 - val_accuracy: 0.1795\n",
            "Epoch 11/20\n",
            "500/500 [==============================] - 1s 3ms/step - loss: 3.5062 - accuracy: 0.1644 - val_loss: 3.4483 - val_accuracy: 0.1839\n",
            "Epoch 12/20\n",
            "500/500 [==============================] - 1s 3ms/step - loss: 3.4799 - accuracy: 0.1699 - val_loss: 3.4451 - val_accuracy: 0.1855\n",
            "Epoch 13/20\n",
            "500/500 [==============================] - 2s 3ms/step - loss: 3.4603 - accuracy: 0.1743 - val_loss: 3.4658 - val_accuracy: 0.1830\n",
            "Epoch 14/20\n",
            "500/500 [==============================] - 2s 3ms/step - loss: 3.4542 - accuracy: 0.1743 - val_loss: 3.4287 - val_accuracy: 0.1873\n",
            "Epoch 15/20\n",
            "500/500 [==============================] - 1s 3ms/step - loss: 3.4434 - accuracy: 0.1760 - val_loss: 3.4468 - val_accuracy: 0.1867\n",
            "Epoch 16/20\n",
            "500/500 [==============================] - 1s 3ms/step - loss: 3.4373 - accuracy: 0.1777 - val_loss: 3.4241 - val_accuracy: 0.1879\n",
            "Epoch 17/20\n",
            "500/500 [==============================] - 1s 3ms/step - loss: 3.4167 - accuracy: 0.1793 - val_loss: 3.3918 - val_accuracy: 0.1983\n",
            "Epoch 18/20\n",
            "500/500 [==============================] - 1s 3ms/step - loss: 3.4122 - accuracy: 0.1808 - val_loss: 3.3687 - val_accuracy: 0.1994\n",
            "Epoch 19/20\n",
            "500/500 [==============================] - 1s 3ms/step - loss: 3.4013 - accuracy: 0.1827 - val_loss: 3.4112 - val_accuracy: 0.1916\n",
            "Epoch 20/20\n",
            "500/500 [==============================] - 1s 3ms/step - loss: 3.3987 - accuracy: 0.1838 - val_loss: 3.3866 - val_accuracy: 0.1990\n"
          ],
          "name": "stdout"
        }
      ]
    },
    {
      "cell_type": "code",
      "metadata": {
        "colab": {
          "base_uri": "https://localhost:8080/"
        },
        "id": "BM3O4unaNZm5",
        "outputId": "4a24c98e-70b4-4021-f7d9-6391fb866f2f"
      },
      "source": [
        "test_loss, test_acc = model.evaluate(X_test,  y_test, verbose=1)"
      ],
      "execution_count": 47,
      "outputs": [
        {
          "output_type": "stream",
          "text": [
            "313/313 [==============================] - 1s 2ms/step - loss: 3.3866 - accuracy: 0.1990\n"
          ],
          "name": "stdout"
        }
      ]
    },
    {
      "cell_type": "markdown",
      "metadata": {
        "id": "Q3RoevKkC27v"
      },
      "source": [
        "### 문항 4) + Early Stopping\n",
        "\n",
        "1. Early Stopping을 적용해봅시다. 멈추는 기준을 `val_loss(검증 데이터셋의 loss 값)`로 하고 loss가 Best 값보다 5번 높아질 때 Stop 하도록 설정합니다.\n",
        "\n",
        "2. Best 모델을 저장해봅시다. Best 모델 역시 멈추는 기준을 `val_loss(검증 데이터셋의 loss 값)`로 하고 `save_best_only=True, save_weights_only=True` 로 설정합니다."
      ]
    },
    {
      "cell_type": "code",
      "metadata": {
        "id": "jjj4th3oLjgu",
        "colab": {
          "base_uri": "https://localhost:8080/"
        },
        "outputId": "721eb230-bd82-4f1b-f6bc-0536038841f8"
      },
      "source": [
        "# seed를 고정합니다.\n",
        "random.seed(1)\n",
        "np.random.seed(1)\n",
        "os.environ[\"PYTHONHASHSEED\"] = str(1)\n",
        "os.environ['TF_DETERMINISTIC_OPS'] = str(1)\n",
        "tf.random.set_seed(1)\n",
        "\n",
        "\n",
        "# 데이터 불러오기\n",
        "(X_train, y_train), (X_test, y_test) = cifar100.load_data()\n",
        "\n",
        "\n",
        "# 정규화(전처리)\n",
        "### Your Code Here ###\n",
        "X_train = X_train/255.    #최대값이 255 였다\n",
        "X_test = X_test/255.\n",
        "\n",
        "# 학습시킨 데이터를 저장시키기 위한 코드입니다. \n",
        "checkpoint_filepath = \"FMbest.hdf5\"\n",
        "\n",
        "\n",
        "# 변수 설정을 따로 하는 방법을 적용하기 위한 코드입니다. \n",
        "batch_size = 100\n",
        "epochs_max = 300 ### Your Code Here ###\n",
        "\n",
        "\n",
        "model = Sequential()\n",
        "model.add(Flatten(input_shape=X_train[1].shape))\n",
        "model.add(Dense(128, activation='relu'))\n",
        "model.add(Dense(128, activation='relu'))\n",
        "model.add(Dense(100, activation='softmax'))\n",
        "\n",
        "# 컴파일 단계, 옵티마이저와 손실함수, 측정지표를 연결해서 계산 그래프를 구성함\n",
        "model.compile(optimizer='adam', loss='sparse_categorical_crossentropy', metrics=['accuracy'])\n",
        "\n",
        "                  \n",
        "# early stopping\n",
        "early_stop = keras.callbacks.EarlyStopping(monitor='val_loss', min_delta=0, patience=5, verbose=1, mode= 'min') ##### Your Code Here #####\n",
        "\n",
        "# Validation Set을 기준으로 가장 최적의 모델을 찾기\n",
        "save_best = keras.callbacks.ModelCheckpoint(filepath=checkpoint_filepath, monitor='val_loss', verbose=1, save_best_only=True,\n",
        "    save_weights_only=True, mode='auto', save_freq='epoch', options=None)\n",
        "\n",
        "results = model.fit(X_train, y_train, epochs=epochs_max, batch_size=batch_size, verbose=1, validation_data=(X_test,y_test),callbacks=[early_stop, save_best])"
      ],
      "execution_count": 48,
      "outputs": [
        {
          "output_type": "stream",
          "text": [
            "Epoch 1/300\n",
            "500/500 [==============================] - 2s 3ms/step - loss: 4.1250 - accuracy: 0.0702 - val_loss: 3.8698 - val_accuracy: 0.1068\n",
            "\n",
            "Epoch 00001: val_loss improved from inf to 3.86977, saving model to FMbest.hdf5\n",
            "Epoch 2/300\n",
            "500/500 [==============================] - 1s 3ms/step - loss: 3.7575 - accuracy: 0.1223 - val_loss: 3.7199 - val_accuracy: 0.1331\n",
            "\n",
            "Epoch 00002: val_loss improved from 3.86977 to 3.71993, saving model to FMbest.hdf5\n",
            "Epoch 3/300\n",
            "500/500 [==============================] - 2s 3ms/step - loss: 3.6322 - accuracy: 0.1446 - val_loss: 3.6934 - val_accuracy: 0.1442\n",
            "\n",
            "Epoch 00003: val_loss improved from 3.71993 to 3.69343, saving model to FMbest.hdf5\n",
            "Epoch 4/300\n",
            "500/500 [==============================] - 1s 3ms/step - loss: 3.5500 - accuracy: 0.1588 - val_loss: 3.5947 - val_accuracy: 0.1592\n",
            "\n",
            "Epoch 00004: val_loss improved from 3.69343 to 3.59470, saving model to FMbest.hdf5\n",
            "Epoch 5/300\n",
            "500/500 [==============================] - 1s 3ms/step - loss: 3.4954 - accuracy: 0.1698 - val_loss: 3.5242 - val_accuracy: 0.1731\n",
            "\n",
            "Epoch 00005: val_loss improved from 3.59470 to 3.52423, saving model to FMbest.hdf5\n",
            "Epoch 6/300\n",
            "500/500 [==============================] - 2s 3ms/step - loss: 3.4336 - accuracy: 0.1801 - val_loss: 3.5019 - val_accuracy: 0.1724\n",
            "\n",
            "Epoch 00006: val_loss improved from 3.52423 to 3.50194, saving model to FMbest.hdf5\n",
            "Epoch 7/300\n",
            "500/500 [==============================] - 2s 3ms/step - loss: 3.3962 - accuracy: 0.1884 - val_loss: 3.4911 - val_accuracy: 0.1778\n",
            "\n",
            "Epoch 00007: val_loss improved from 3.50194 to 3.49112, saving model to FMbest.hdf5\n",
            "Epoch 8/300\n",
            "500/500 [==============================] - 1s 3ms/step - loss: 3.3572 - accuracy: 0.1946 - val_loss: 3.4645 - val_accuracy: 0.1847\n",
            "\n",
            "Epoch 00008: val_loss improved from 3.49112 to 3.46448, saving model to FMbest.hdf5\n",
            "Epoch 9/300\n",
            "500/500 [==============================] - 2s 3ms/step - loss: 3.3278 - accuracy: 0.1997 - val_loss: 3.4580 - val_accuracy: 0.1843\n",
            "\n",
            "Epoch 00009: val_loss improved from 3.46448 to 3.45805, saving model to FMbest.hdf5\n",
            "Epoch 10/300\n",
            "500/500 [==============================] - 1s 3ms/step - loss: 3.3027 - accuracy: 0.2049 - val_loss: 3.3787 - val_accuracy: 0.2080\n",
            "\n",
            "Epoch 00010: val_loss improved from 3.45805 to 3.37868, saving model to FMbest.hdf5\n",
            "Epoch 11/300\n",
            "500/500 [==============================] - 2s 3ms/step - loss: 3.2705 - accuracy: 0.2104 - val_loss: 3.3671 - val_accuracy: 0.2027\n",
            "\n",
            "Epoch 00011: val_loss improved from 3.37868 to 3.36706, saving model to FMbest.hdf5\n",
            "Epoch 12/300\n",
            "500/500 [==============================] - 2s 3ms/step - loss: 3.2428 - accuracy: 0.2156 - val_loss: 3.3678 - val_accuracy: 0.2000\n",
            "\n",
            "Epoch 00012: val_loss did not improve from 3.36706\n",
            "Epoch 13/300\n",
            "500/500 [==============================] - 2s 3ms/step - loss: 3.2196 - accuracy: 0.2207 - val_loss: 3.3916 - val_accuracy: 0.1977\n",
            "\n",
            "Epoch 00013: val_loss did not improve from 3.36706\n",
            "Epoch 14/300\n",
            "500/500 [==============================] - 1s 3ms/step - loss: 3.2036 - accuracy: 0.2222 - val_loss: 3.3354 - val_accuracy: 0.2143\n",
            "\n",
            "Epoch 00014: val_loss improved from 3.36706 to 3.33539, saving model to FMbest.hdf5\n",
            "Epoch 15/300\n",
            "500/500 [==============================] - 2s 3ms/step - loss: 3.1894 - accuracy: 0.2249 - val_loss: 3.3553 - val_accuracy: 0.2125\n",
            "\n",
            "Epoch 00015: val_loss did not improve from 3.33539\n",
            "Epoch 16/300\n",
            "500/500 [==============================] - 2s 3ms/step - loss: 3.1778 - accuracy: 0.2256 - val_loss: 3.3481 - val_accuracy: 0.2062\n",
            "\n",
            "Epoch 00016: val_loss did not improve from 3.33539\n",
            "Epoch 17/300\n",
            "500/500 [==============================] - 2s 3ms/step - loss: 3.1577 - accuracy: 0.2307 - val_loss: 3.3338 - val_accuracy: 0.2099\n",
            "\n",
            "Epoch 00017: val_loss improved from 3.33539 to 3.33385, saving model to FMbest.hdf5\n",
            "Epoch 18/300\n",
            "500/500 [==============================] - 2s 3ms/step - loss: 3.1463 - accuracy: 0.2302 - val_loss: 3.3203 - val_accuracy: 0.2129\n",
            "\n",
            "Epoch 00018: val_loss improved from 3.33385 to 3.32032, saving model to FMbest.hdf5\n",
            "Epoch 19/300\n",
            "500/500 [==============================] - 2s 3ms/step - loss: 3.1348 - accuracy: 0.2332 - val_loss: 3.3429 - val_accuracy: 0.2095\n",
            "\n",
            "Epoch 00019: val_loss did not improve from 3.32032\n",
            "Epoch 20/300\n",
            "500/500 [==============================] - 2s 3ms/step - loss: 3.1245 - accuracy: 0.2346 - val_loss: 3.3331 - val_accuracy: 0.2095\n",
            "\n",
            "Epoch 00020: val_loss did not improve from 3.32032\n",
            "Epoch 21/300\n",
            "500/500 [==============================] - 2s 3ms/step - loss: 3.1156 - accuracy: 0.2357 - val_loss: 3.3198 - val_accuracy: 0.2110\n",
            "\n",
            "Epoch 00021: val_loss improved from 3.32032 to 3.31982, saving model to FMbest.hdf5\n",
            "Epoch 22/300\n",
            "500/500 [==============================] - 2s 3ms/step - loss: 3.1055 - accuracy: 0.2372 - val_loss: 3.3527 - val_accuracy: 0.2054\n",
            "\n",
            "Epoch 00022: val_loss did not improve from 3.31982\n",
            "Epoch 23/300\n",
            "500/500 [==============================] - 2s 3ms/step - loss: 3.0922 - accuracy: 0.2423 - val_loss: 3.3388 - val_accuracy: 0.2077\n",
            "\n",
            "Epoch 00023: val_loss did not improve from 3.31982\n",
            "Epoch 24/300\n",
            "500/500 [==============================] - 2s 3ms/step - loss: 3.0889 - accuracy: 0.2397 - val_loss: 3.3427 - val_accuracy: 0.2087\n",
            "\n",
            "Epoch 00024: val_loss did not improve from 3.31982\n",
            "Epoch 25/300\n",
            "500/500 [==============================] - 2s 3ms/step - loss: 3.0854 - accuracy: 0.2430 - val_loss: 3.3223 - val_accuracy: 0.2129\n",
            "\n",
            "Epoch 00025: val_loss did not improve from 3.31982\n",
            "Epoch 26/300\n",
            "500/500 [==============================] - 2s 3ms/step - loss: 3.0737 - accuracy: 0.2432 - val_loss: 3.3207 - val_accuracy: 0.2157\n",
            "\n",
            "Epoch 00026: val_loss did not improve from 3.31982\n",
            "Epoch 00026: early stopping\n"
          ],
          "name": "stdout"
        }
      ]
    },
    {
      "cell_type": "code",
      "metadata": {
        "id": "Bk3GSXbfUI91",
        "colab": {
          "base_uri": "https://localhost:8080/"
        },
        "outputId": "f7cd4fbf-e4be-4fe3-8dc1-42e17302dfda"
      },
      "source": [
        "# 학습된 모델을 이용하여 테스트하는 코드\n",
        "test_loss, test_acc = model.evaluate(X_test,  y_test, verbose=1)"
      ],
      "execution_count": 49,
      "outputs": [
        {
          "output_type": "stream",
          "text": [
            "313/313 [==============================] - 1s 2ms/step - loss: 3.3207 - accuracy: 0.2157\n"
          ],
          "name": "stdout"
        }
      ]
    },
    {
      "cell_type": "code",
      "metadata": {
        "id": "Nyz7CrMIUNJX",
        "colab": {
          "base_uri": "https://localhost:8080/"
        },
        "outputId": "018210c8-7457-4b66-d6e8-2c50b33610ec"
      },
      "source": [
        "model.load_weights(checkpoint_filepath)\n",
        "\n",
        "# best model을 이용한 테스트 데이터 예측 정확도 재확인 코드\n",
        "test_loss, test_acc = model.evaluate(X_test, y_test, verbose=1)"
      ],
      "execution_count": 50,
      "outputs": [
        {
          "output_type": "stream",
          "text": [
            "313/313 [==============================] - 1s 2ms/step - loss: 3.3198 - accuracy: 0.2110\n"
          ],
          "name": "stdout"
        }
      ]
    }
  ]
}